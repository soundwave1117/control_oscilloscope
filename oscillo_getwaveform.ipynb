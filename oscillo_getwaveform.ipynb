{
 "cells": [
  {
   "cell_type": "code",
   "execution_count": 10,
   "id": "7a1010d2-76c7-425f-908f-587c04da3f01",
   "metadata": {},
   "outputs": [],
   "source": [
    "import pyvisa\n",
    "import matplotlib.pyplot as plt\n",
    "import numpy as np"
   ]
  },
  {
   "cell_type": "code",
   "execution_count": 11,
   "id": "49336690-e918-4717-9e9c-87d138bd8c57",
   "metadata": {},
   "outputs": [
    {
     "data": {
      "text/plain": [
       "('TCPIP0::TEKSCOPE-536165::inst0::INSTR',\n",
       " 'TCPIP0::172.20.147.149::inst0::INSTR',\n",
       " 'GPIB0::2::INSTR',\n",
       " 'GPIB0::8::INSTR',\n",
       " 'GPIB0::10::INSTR',\n",
       " 'USB0::0x1313::0x8078::P0021527::0::INSTR')"
      ]
     },
     "execution_count": 11,
     "metadata": {},
     "output_type": "execute_result"
    }
   ],
   "source": [
    "rm = pyvisa.ResourceManager()\n",
    "visa_list = rm.list_resources()\n",
    "visa_list"
   ]
  },
  {
   "cell_type": "code",
   "execution_count": 12,
   "id": "11b35959-d8d3-44e4-8cd8-d0f3f79e1ede",
   "metadata": {},
   "outputs": [
    {
     "name": "stdout",
     "output_type": "stream",
     "text": [
      "TEKTRONIX,DPO7104C,C141123,CF:91.1CT FV:7.6.0 Build 7\n",
      "\n"
     ]
    }
   ],
   "source": [
    "#クエリ送信\n",
    "inst_1 = visa_list[1]\n",
    "scope = rm.open_resource(inst_1)\n",
    "print(scope.query('*IDN?'))"
   ]
  },
  {
   "cell_type": "code",
   "execution_count": 29,
   "id": "bf3d84a8-ff3d-41a3-a046-5c2f780b14b2",
   "metadata": {},
   "outputs": [
    {
     "data": {
      "text/plain": [
       "[<matplotlib.lines.Line2D at 0x23fc7b2c490>]"
      ]
     },
     "execution_count": 29,
     "metadata": {},
     "output_type": "execute_result"
    },
    {
     "data": {
      "image/png": "[encoded data removed]",
      "text/plain": [
       "<Figure size 432x288 with 1 Axes>"
      ]
     },
     "metadata": {
      "needs_background": "light"
     },
     "output_type": "display_data"
    }
   ],
   "source": [
    "import numpy as np\n",
    "\n",
    "# timeout の設定\n",
    "scope.timeout = 30000 # 30 秒\n",
    "\n",
    "# Setting source as Channel 1\n",
    "scope.write('DATA:SOU CH1') \n",
    "scope.write('DATA:WIDTH 2') \n",
    "scope.write('DATA:ENC SRIBINARY')\n",
    "\n",
    "scope.write('DATa:STARt 1')\n",
    "scope.write('DATa:STOP 5000')\n",
    "ymult = float(scope.query('WFMINPRE:YMULT?')) # y-axis least \n",
    "yzero = float(scope.query('WFMINPRE:YZERO?')) # y-axis zero error\n",
    "yoff = float(scope.query('WFMINPRE:YOFF?'))   # y-axis offset\n",
    "xincr = float(scope.query('WFINMPRE:XINCR?')) # x-axis least count\n",
    "xoff = float(scope.query('WFMP:PT_OFF?'))   # x-axis offset\n",
    "\n",
    "\n",
    "ADC_wave = scope.query_binary_values('CURVe?',datatype = 'h',is_big_endian=False, container=np.array)\n",
    "Volts = (ADC_wave - yoff) * ymult + yzero\n",
    "time = np.arange(-1*xincr*xoff,-1*xincr*xoff+len(Volts)*xincr,xincr)\n",
    "\n",
    "# データ\n",
    "plt.plot(Volts)"
   ]
  },
  {
   "cell_type": "code",
   "execution_count": 30,
   "id": "61cbf8f9-88b2-4928-90aa-d6f3fdd5cde8",
   "metadata": {},
   "outputs": [
    {
     "name": "stdout",
     "output_type": "stream",
     "text": [
      "4.6875e-06\n",
      "0.0\n",
      "0.0\n",
      "1e-09\n",
      "2500.0\n",
      "0.0\n"
     ]
    },
    {
     "data": {
      "text/plain": [
       "5000"
      ]
     },
     "execution_count": 30,
     "metadata": {},
     "output_type": "execute_result"
    }
   ],
   "source": [
    "print(ymult)\n",
    "print(yzero)\n",
    "print(yoff)\n",
    "print(xincr)\n",
    "print(xoff)\n",
    "print(xzero)\n",
    "len(ADC_wave)"
   ]
  },
  {
   "cell_type": "code",
   "execution_count": null,
   "id": "b67f20f2-530b-48c9-ad6a-60dd0a3e562b",
   "metadata": {},
   "outputs": [],
   "source": []
  }
 ],
 "metadata": {
  "kernelspec": {
   "display_name": "Python 3",
   "language": "python",
   "name": "python3"
  },
  "language_info": {
   "codemirror_mode": {
    "name": "ipython",
    "version": 3
   },
   "file_extension": ".py",
   "mimetype": "text/x-python",
   "name": "python",
   "nbconvert_exporter": "python",
   "pygments_lexer": "ipython3",
   "version": "3.8.8"
  }
 },
 "nbformat": 4,
 "nbformat_minor": 5
}
